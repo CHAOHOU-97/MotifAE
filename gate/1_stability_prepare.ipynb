{
 "cells": [
  {
   "cell_type": "code",
   "execution_count": 1,
   "id": "23e07344",
   "metadata": {},
   "outputs": [],
   "source": [
    "import esm\n",
    "import sys, os\n",
    "import torch\n",
    "import pandas as pd\n",
    "import numpy as np\n",
    "import pickle"
   ]
  },
  {
   "cell_type": "markdown",
   "id": "52b9154b",
   "metadata": {},
   "source": [
    "### get embedding of wild type sequence"
   ]
  },
  {
   "cell_type": "code",
   "execution_count": 6,
   "id": "b3b2df68",
   "metadata": {},
   "outputs": [],
   "source": [
    "device = torch.device(\"cuda:0\" if torch.cuda.is_available() else \"cpu\")\n",
    "\n",
    "esm_model, alphabet = esm.pretrained.esm2_t33_650M_UR50D()\n",
    "esm_model.eval()  # disables dropout for deterministic results\n",
    "esm_model = esm_model.to(device)\n",
    "batch_converter = alphabet.get_batch_converter()"
   ]
  },
  {
   "cell_type": "code",
   "execution_count": 2,
   "id": "e5c5d7aa",
   "metadata": {},
   "outputs": [],
   "source": [
    "os.chdir('/nfs/user/Users/ch3849/esm_sae/gate_mut/')\n",
    "df = pd.read_csv('412pros_528kmuts_single_double_ddG_ML.csv')\n",
    "wt = df[df['mut_type'] == 'wt']"
   ]
  },
  {
   "cell_type": "code",
   "execution_count": 10,
   "id": "8edd0cb1",
   "metadata": {},
   "outputs": [],
   "source": [
    "embed = {}\n",
    "\n",
    "for i in wt.index:\n",
    "    name, seq = wt.loc[i, ['WT_name', 'aa_seq']]\n",
    "    data = [(name, seq)]\n",
    "    batch_labels, batch_strs, batch_tokens = batch_converter(data)\n",
    "    batch_tokens = batch_tokens.to(device)\n",
    "\n",
    "    with torch.no_grad():\n",
    "        results = esm_model(batch_tokens, repr_layers=[33], return_contacts=False)\n",
    "    token_representations = results[\"representations\"][33]\n",
    "    # Generate per-residue representations (on CPU)\n",
    "    embedding = token_representations.cpu()\n",
    "    embed[name] = embedding"
   ]
  },
  {
   "cell_type": "code",
   "execution_count": 13,
   "id": "11080247",
   "metadata": {},
   "outputs": [
    {
     "data": {
      "text/plain": [
       "torch.Size([1, 49, 1280])"
      ]
     },
     "execution_count": 13,
     "metadata": {},
     "output_type": "execute_result"
    }
   ],
   "source": [
    "embed['EA|run2_0325_0005.pdb'].shape"
   ]
  },
  {
   "cell_type": "code",
   "execution_count": null,
   "id": "79b51923",
   "metadata": {},
   "outputs": [],
   "source": [
    "with open(\"embedding_412wt.pkl\", \"wb\") as f:\n",
    "    pickle.dump(embed, f)"
   ]
  },
  {
   "cell_type": "markdown",
   "id": "d22c9c51",
   "metadata": {},
   "source": [
    "### train/test protein split"
   ]
  },
  {
   "cell_type": "code",
   "execution_count": 15,
   "id": "2f5c90ec",
   "metadata": {},
   "outputs": [],
   "source": [
    "with open('seq/412wt_seq.fasta', 'w') as f:\n",
    "    for i in wt.index:\n",
    "        name, seq = wt.loc[i, ['WT_name', 'aa_seq']]\n",
    "        f.write(f'>{name}\\n{seq}\\n')"
   ]
  },
  {
   "cell_type": "code",
   "execution_count": null,
   "id": "0e845031",
   "metadata": {},
   "outputs": [],
   "source": [
    "### add 412 wt cluster info\n",
    "clu = pd.read_table('seq/clusterRes_cluster.tsv', header=None, names=['cluster', 'WT_name'])\n",
    "wt = pd.merge(wt, clu, on='WT_name')"
   ]
  },
  {
   "cell_type": "code",
   "execution_count": null,
   "id": "3612b261",
   "metadata": {},
   "outputs": [],
   "source": [
    "### add ESM-2 zero-shot performance\n",
    "performance = pd.read_csv('/nfs/user/Users/ch3849/ProDance/mutation/stability_cdna/zero_shot/esm2/412pros_528kmuts_esm2_spearmans.csv', index_col=0)\n",
    "performance = performance[performance['mut_type'] == 'single'][['pro', 'esm_650_wt']]\n",
    "wt = pd.merge(wt, performance, left_on='WT_name', right_on='pro')"
   ]
  },
  {
   "cell_type": "code",
   "execution_count": null,
   "id": "9b533846",
   "metadata": {},
   "outputs": [],
   "source": [
    "### add UniRef50 homolog count info\n",
    "uniref_homolog = pd.read_table('/nfs/user/Users/ch3849/ProDance/mutation/stability_cdna/seq_new/mmseq_search_uniref50/rDB.tsv', header=None)\n",
    "uniref_homolog = uniref_homolog[[0,1,3,5,6,7]]\n",
    "uniref_homolog.columns = ['name', 'train', 'identity', 'qstart', 'qend', 'qlen']\n",
    "# the coverage on evaluation sequence\n",
    "uniref_homolog['coverage'] = (uniref_homolog['qend']-uniref_homolog['qstart']+1) / uniref_homolog['qlen']\n",
    "# define the threshold\n",
    "uniref_homolog = uniref_homolog[(uniref_homolog['identity'] >= 0.2) & (uniref_homolog['coverage'] >= 0.5)]"
   ]
  },
  {
   "cell_type": "code",
   "execution_count": 42,
   "id": "abaa7239",
   "metadata": {},
   "outputs": [],
   "source": [
    "uniref_homolog_count = pd.DataFrame(uniref_homolog['name'].value_counts())"
   ]
  },
  {
   "cell_type": "code",
   "execution_count": 44,
   "id": "4214965a",
   "metadata": {},
   "outputs": [],
   "source": [
    "wt = pd.merge(wt, uniref_homolog_count, left_on='WT_name', right_index=True, how='left')\n",
    "wt['count'] = wt['count'].fillna(0)"
   ]
  },
  {
   "cell_type": "code",
   "execution_count": 74,
   "id": "f4d574a2",
   "metadata": {},
   "outputs": [
    {
     "name": "stdout",
     "output_type": "stream",
     "text": [
      "good split\n"
     ]
    }
   ],
   "source": [
    "import random\n",
    "seed = 0\n",
    "while True:\n",
    "    seed += 1\n",
    "    random.seed(seed)\n",
    "    clusters = list(set(wt['cluster']))\n",
    "    sampled = random.sample(clusters, int(len(clusters)*0.3))\n",
    "\n",
    "    wt_test = wt[wt['cluster'].isin(sampled)]\n",
    "    wt_train = wt[~wt['cluster'].isin(sampled)]\n",
    "    if len(wt_test) / len(wt_train) < 0.45 and len(wt_test) / len(wt_train) > 0.4 and abs(wt_test['esm_650_wt'].median() - wt_train['esm_650_wt'].median()) < 0.01 and \\\n",
    "    len(wt_test[wt_test['count'] == 0]) / len(wt_train[wt_train['count'] == 0]) < 0.45 and len(wt_test[wt_test['count'] == 0]) / len(wt_train[wt_train['count'] == 0]) > 0.4:\n",
    "        print('good split')\n",
    "        break"
   ]
  },
  {
   "cell_type": "code",
   "execution_count": 77,
   "id": "9a2acef8",
   "metadata": {},
   "outputs": [],
   "source": [
    "wt['split'] = 'train'\n",
    "wt.loc[wt['cluster'].isin(sampled), 'split'] = 'test'"
   ]
  },
  {
   "cell_type": "code",
   "execution_count": 78,
   "id": "e21982e3",
   "metadata": {},
   "outputs": [],
   "source": [
    "wt.to_csv('412wt_info.csv', index=False)"
   ]
  },
  {
   "cell_type": "markdown",
   "id": "38ff6f61",
   "metadata": {},
   "source": [
    "### train/test mutation split"
   ]
  },
  {
   "cell_type": "code",
   "execution_count": 96,
   "id": "5514c421",
   "metadata": {},
   "outputs": [
    {
     "name": "stderr",
     "output_type": "stream",
     "text": [
      "/tmp/ipykernel_924891/4026731274.py:2: SettingWithCopyWarning: \n",
      "A value is trying to be set on a copy of a slice from a DataFrame.\n",
      "Try using .loc[row_indexer,col_indexer] = value instead\n",
      "\n",
      "See the caveats in the documentation: https://pandas.pydata.org/pandas-docs/stable/user_guide/indexing.html#returning-a-view-versus-a-copy\n",
      "  df['split'] = 'train'\n"
     ]
    }
   ],
   "source": [
    "df = df[df['mut_type'] != 'wt']\n",
    "df['split'] = 'train'\n",
    "df.loc[df['WT_name'].isin(wt[wt['split'] == 'test']['WT_name']), 'split'] = 'test'\n",
    "df.loc[df[df['mut_type'].str.contains(':')].index, 'split'] = 'double_test'"
   ]
  },
  {
   "cell_type": "code",
   "execution_count": 97,
   "id": "d6929297",
   "metadata": {},
   "outputs": [],
   "source": [
    "for i in wt[wt['split'] == 'train']['WT_name']:\n",
    "    idx = df[df['WT_name'] == i].index\n",
    "    eval_idx = random.sample(list(idx), int(len(idx)*0.3))\n",
    "    df.loc[eval_idx, 'split'] = 'eval'"
   ]
  },
  {
   "cell_type": "code",
   "execution_count": 102,
   "id": "2f4883f7",
   "metadata": {},
   "outputs": [],
   "source": [
    "df.to_csv('ddG_ML_split.csv', index=False)"
   ]
  },
  {
   "cell_type": "markdown",
   "id": "4143089f",
   "metadata": {},
   "source": [
    "### get training label"
   ]
  },
  {
   "cell_type": "code",
   "execution_count": 3,
   "id": "499beabd",
   "metadata": {},
   "outputs": [],
   "source": [
    "wt = pd.read_csv('412wt_info.csv')\n",
    "df = pd.read_csv('ddG_ML_split.csv')"
   ]
  },
  {
   "cell_type": "code",
   "execution_count": 4,
   "id": "97422c3a",
   "metadata": {},
   "outputs": [
    {
     "data": {
      "text/html": [
       "<div>\n",
       "<style scoped>\n",
       "    .dataframe tbody tr th:only-of-type {\n",
       "        vertical-align: middle;\n",
       "    }\n",
       "\n",
       "    .dataframe tbody tr th {\n",
       "        vertical-align: top;\n",
       "    }\n",
       "\n",
       "    .dataframe thead th {\n",
       "        text-align: right;\n",
       "    }\n",
       "</style>\n",
       "<table border=\"1\" class=\"dataframe\">\n",
       "  <thead>\n",
       "    <tr style=\"text-align: right;\">\n",
       "      <th></th>\n",
       "      <th>aa_seq</th>\n",
       "      <th>mut_type</th>\n",
       "      <th>WT_name</th>\n",
       "      <th>WT_cluster</th>\n",
       "      <th>ddG_ML</th>\n",
       "      <th>cluster</th>\n",
       "      <th>pro</th>\n",
       "      <th>esm_650_wt</th>\n",
       "      <th>count</th>\n",
       "      <th>split</th>\n",
       "    </tr>\n",
       "  </thead>\n",
       "  <tbody>\n",
       "    <tr>\n",
       "      <th>0</th>\n",
       "      <td>DEVTIHLGDKTIRVDGLDKELLEILKELARRGADEEELRKEIERWER</td>\n",
       "      <td>wt</td>\n",
       "      <td>EA|run2_0325_0005.pdb</td>\n",
       "      <td>EEHH</td>\n",
       "      <td>-0.136745</td>\n",
       "      <td>EA|run2_0325_0005.pdb</td>\n",
       "      <td>EA|run2_0325_0005.pdb</td>\n",
       "      <td>0.265157</td>\n",
       "      <td>0.0</td>\n",
       "      <td>train</td>\n",
       "    </tr>\n",
       "    <tr>\n",
       "      <th>1</th>\n",
       "      <td>KVTIVVENIKVFGEDGKLTDEARRLLEKALEEAKRFPGKEVEIVLLP</td>\n",
       "      <td>wt</td>\n",
       "      <td>r10_490_TrROS_Hall.pdb</td>\n",
       "      <td>hall</td>\n",
       "      <td>0.047965</td>\n",
       "      <td>r10_490_TrROS_Hall.pdb</td>\n",
       "      <td>r10_490_TrROS_Hall.pdb</td>\n",
       "      <td>0.129520</td>\n",
       "      <td>0.0</td>\n",
       "      <td>test</td>\n",
       "    </tr>\n",
       "    <tr>\n",
       "      <th>2</th>\n",
       "      <td>TVKFKYKGEEKQVDISKIKKVWRVGKMISFTYDEGGGKTGRGAVSE...</td>\n",
       "      <td>wt</td>\n",
       "      <td>1JIC.pdb</td>\n",
       "      <td>109</td>\n",
       "      <td>-0.014232</td>\n",
       "      <td>1JIC.pdb</td>\n",
       "      <td>1JIC.pdb</td>\n",
       "      <td>0.320662</td>\n",
       "      <td>18.0</td>\n",
       "      <td>test</td>\n",
       "    </tr>\n",
       "    <tr>\n",
       "      <th>3</th>\n",
       "      <td>KDPKFEAAYDFPGSGSSSELPLKKGDIVFISRDEPSGWSLAKLLDG...</td>\n",
       "      <td>wt</td>\n",
       "      <td>2BTT.pdb</td>\n",
       "      <td>156</td>\n",
       "      <td>0.084476</td>\n",
       "      <td>2BTT.pdb</td>\n",
       "      <td>2BTT.pdb</td>\n",
       "      <td>0.496714</td>\n",
       "      <td>182.0</td>\n",
       "      <td>train</td>\n",
       "    </tr>\n",
       "    <tr>\n",
       "      <th>4</th>\n",
       "      <td>NKFNKELGWATWEIFNLPNLNGVQVKAFIDSLRDDPSQSANLLAEA...</td>\n",
       "      <td>wt</td>\n",
       "      <td>2B88.pdb</td>\n",
       "      <td>71</td>\n",
       "      <td>0.039239</td>\n",
       "      <td>v2_2M5A.pdb</td>\n",
       "      <td>2B88.pdb</td>\n",
       "      <td>0.187662</td>\n",
       "      <td>42.0</td>\n",
       "      <td>test</td>\n",
       "    </tr>\n",
       "    <tr>\n",
       "      <th>...</th>\n",
       "      <td>...</td>\n",
       "      <td>...</td>\n",
       "      <td>...</td>\n",
       "      <td>...</td>\n",
       "      <td>...</td>\n",
       "      <td>...</td>\n",
       "      <td>...</td>\n",
       "      <td>...</td>\n",
       "      <td>...</td>\n",
       "      <td>...</td>\n",
       "    </tr>\n",
       "    <tr>\n",
       "      <th>407</th>\n",
       "      <td>DHWEIRVGDITIHLKDVDEEIIRWVEEALRNGDDLEEIKRWVEEVLR</td>\n",
       "      <td>wt</td>\n",
       "      <td>XX|run1_0455_0002.pdb</td>\n",
       "      <td>EEHH</td>\n",
       "      <td>0.007841</td>\n",
       "      <td>EA|run2_0325_0005.pdb</td>\n",
       "      <td>XX|run1_0455_0002.pdb</td>\n",
       "      <td>0.219816</td>\n",
       "      <td>0.0</td>\n",
       "      <td>train</td>\n",
       "    </tr>\n",
       "    <tr>\n",
       "      <th>408</th>\n",
       "      <td>PEDLERKVRELQKNGVSPEQIEKILRRDGVDEREVQELVKKVS</td>\n",
       "      <td>wt</td>\n",
       "      <td>HHH_rd4_0613.pdb</td>\n",
       "      <td>HHH</td>\n",
       "      <td>-0.004826</td>\n",
       "      <td>HHH_rd4_0124.pdb</td>\n",
       "      <td>HHH_rd4_0613.pdb</td>\n",
       "      <td>0.592606</td>\n",
       "      <td>0.0</td>\n",
       "      <td>test</td>\n",
       "    </tr>\n",
       "    <tr>\n",
       "      <th>409</th>\n",
       "      <td>ENVVSAPMPGKVLRVLVRVGDRVRVGQGLLVLEAMKMENEIPSPRD...</td>\n",
       "      <td>wt</td>\n",
       "      <td>5GU9.pdb_L66K</td>\n",
       "      <td>226</td>\n",
       "      <td>0.005261</td>\n",
       "      <td>5GU9.pdb_V60D</td>\n",
       "      <td>5GU9.pdb_L66K</td>\n",
       "      <td>0.519919</td>\n",
       "      <td>1000.0</td>\n",
       "      <td>train</td>\n",
       "    </tr>\n",
       "    <tr>\n",
       "      <th>410</th>\n",
       "      <td>KELVSALYDYQEKSPREVTMKKGDILTLLNSTNKDWWKVEVNGRQG...</td>\n",
       "      <td>wt</td>\n",
       "      <td>1BK2.pdb_L5S</td>\n",
       "      <td>15</td>\n",
       "      <td>-0.002634</td>\n",
       "      <td>2KXD.pdb</td>\n",
       "      <td>1BK2.pdb_L5S</td>\n",
       "      <td>0.482433</td>\n",
       "      <td>1000.0</td>\n",
       "      <td>train</td>\n",
       "    </tr>\n",
       "    <tr>\n",
       "      <th>411</th>\n",
       "      <td>GTLIVGDIKITVPTADAAKKLAQKFAELYNLSIIQDGNTYKLT</td>\n",
       "      <td>wt</td>\n",
       "      <td>EEHEE_rd3_1818.pdb</td>\n",
       "      <td>EEHEE</td>\n",
       "      <td>-0.009410</td>\n",
       "      <td>EEHEE_rd3_1818.pdb</td>\n",
       "      <td>EEHEE_rd3_1818.pdb</td>\n",
       "      <td>0.156974</td>\n",
       "      <td>0.0</td>\n",
       "      <td>train</td>\n",
       "    </tr>\n",
       "  </tbody>\n",
       "</table>\n",
       "<p>412 rows × 10 columns</p>\n",
       "</div>"
      ],
      "text/plain": [
       "                                                aa_seq mut_type  \\\n",
       "0      DEVTIHLGDKTIRVDGLDKELLEILKELARRGADEEELRKEIERWER       wt   \n",
       "1      KVTIVVENIKVFGEDGKLTDEARRLLEKALEEAKRFPGKEVEIVLLP       wt   \n",
       "2    TVKFKYKGEEKQVDISKIKKVWRVGKMISFTYDEGGGKTGRGAVSE...       wt   \n",
       "3    KDPKFEAAYDFPGSGSSSELPLKKGDIVFISRDEPSGWSLAKLLDG...       wt   \n",
       "4    NKFNKELGWATWEIFNLPNLNGVQVKAFIDSLRDDPSQSANLLAEA...       wt   \n",
       "..                                                 ...      ...   \n",
       "407    DHWEIRVGDITIHLKDVDEEIIRWVEEALRNGDDLEEIKRWVEEVLR       wt   \n",
       "408        PEDLERKVRELQKNGVSPEQIEKILRRDGVDEREVQELVKKVS       wt   \n",
       "409  ENVVSAPMPGKVLRVLVRVGDRVRVGQGLLVLEAMKMENEIPSPRD...       wt   \n",
       "410  KELVSALYDYQEKSPREVTMKKGDILTLLNSTNKDWWKVEVNGRQG...       wt   \n",
       "411        GTLIVGDIKITVPTADAAKKLAQKFAELYNLSIIQDGNTYKLT       wt   \n",
       "\n",
       "                    WT_name WT_cluster    ddG_ML                 cluster  \\\n",
       "0     EA|run2_0325_0005.pdb       EEHH -0.136745   EA|run2_0325_0005.pdb   \n",
       "1    r10_490_TrROS_Hall.pdb       hall  0.047965  r10_490_TrROS_Hall.pdb   \n",
       "2                  1JIC.pdb        109 -0.014232                1JIC.pdb   \n",
       "3                  2BTT.pdb        156  0.084476                2BTT.pdb   \n",
       "4                  2B88.pdb         71  0.039239             v2_2M5A.pdb   \n",
       "..                      ...        ...       ...                     ...   \n",
       "407   XX|run1_0455_0002.pdb       EEHH  0.007841   EA|run2_0325_0005.pdb   \n",
       "408        HHH_rd4_0613.pdb        HHH -0.004826        HHH_rd4_0124.pdb   \n",
       "409           5GU9.pdb_L66K        226  0.005261           5GU9.pdb_V60D   \n",
       "410            1BK2.pdb_L5S         15 -0.002634                2KXD.pdb   \n",
       "411      EEHEE_rd3_1818.pdb      EEHEE -0.009410      EEHEE_rd3_1818.pdb   \n",
       "\n",
       "                        pro  esm_650_wt   count  split  \n",
       "0     EA|run2_0325_0005.pdb    0.265157     0.0  train  \n",
       "1    r10_490_TrROS_Hall.pdb    0.129520     0.0   test  \n",
       "2                  1JIC.pdb    0.320662    18.0   test  \n",
       "3                  2BTT.pdb    0.496714   182.0  train  \n",
       "4                  2B88.pdb    0.187662    42.0   test  \n",
       "..                      ...         ...     ...    ...  \n",
       "407   XX|run1_0455_0002.pdb    0.219816     0.0  train  \n",
       "408        HHH_rd4_0613.pdb    0.592606     0.0   test  \n",
       "409           5GU9.pdb_L66K    0.519919  1000.0  train  \n",
       "410            1BK2.pdb_L5S    0.482433  1000.0  train  \n",
       "411      EEHEE_rd3_1818.pdb    0.156974     0.0  train  \n",
       "\n",
       "[412 rows x 10 columns]"
      ]
     },
     "execution_count": 4,
     "metadata": {},
     "output_type": "execute_result"
    }
   ],
   "source": [
    "wt"
   ]
  },
  {
   "cell_type": "code",
   "execution_count": 7,
   "id": "0b09a58c",
   "metadata": {},
   "outputs": [],
   "source": [
    "mt_aa = alphabet.all_toks[4:24]\n",
    "label = {}\n",
    "\n",
    "for i in wt.index:\n",
    "    name, seq = wt.loc[i, ['WT_name', 'aa_seq']]\n",
    "    df_train = df[(df['WT_name'] == name) & (df['split'] == 'train')]\n",
    "    df_eval = df[(df['WT_name'] == name) & (df['split'] == 'eval')]\n",
    "    df_test = df[(df['WT_name'] == name) & (df['split'] == 'test')]\n",
    "    \n",
    "    all_mt = []\n",
    "    for i, wt_aa in enumerate(seq):\n",
    "        all_mt += [f\"{wt_aa}{i+1}{mt_aa}\" for mt_aa in mt_aa]\n",
    "    \n",
    "    if len(df_train) > 0:\n",
    "        label[f'{name}_train'] = torch.tensor(pd.merge(pd.DataFrame(all_mt), df_train, left_on=0, right_on='mut_type', how='left')['ddG_ML'])\n",
    "    if len(df_eval) > 0:\n",
    "        label[f'{name}_eval'] = torch.tensor(pd.merge(pd.DataFrame(all_mt), df_eval, left_on=0, right_on='mut_type', how='left')['ddG_ML'])\n",
    "    if len(df_test) > 0:\n",
    "        label[f'{name}_test'] = torch.tensor(pd.merge(pd.DataFrame(all_mt), df_test, left_on=0, right_on='mut_type', how='left')['ddG_ML'])"
   ]
  },
  {
   "cell_type": "code",
   "execution_count": 10,
   "id": "6552a451",
   "metadata": {},
   "outputs": [],
   "source": [
    "with open(\"training_label.pkl\", \"wb\") as f:\n",
    "    pickle.dump(label, f)"
   ]
  },
  {
   "cell_type": "code",
   "execution_count": 126,
   "id": "880a3cde",
   "metadata": {},
   "outputs": [
    {
     "data": {
      "text/plain": [
       "285"
      ]
     },
     "execution_count": 126,
     "metadata": {},
     "output_type": "execute_result"
    }
   ],
   "source": [
    "len(label.keys())"
   ]
  }
 ],
 "metadata": {
  "kernelspec": {
   "display_name": "base",
   "language": "python",
   "name": "python3"
  },
  "language_info": {
   "codemirror_mode": {
    "name": "ipython",
    "version": 3
   },
   "file_extension": ".py",
   "mimetype": "text/x-python",
   "name": "python",
   "nbconvert_exporter": "python",
   "pygments_lexer": "ipython3",
   "version": "3.12.7"
  }
 },
 "nbformat": 4,
 "nbformat_minor": 5
}
