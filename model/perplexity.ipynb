{
 "cells": [
  {
   "cell_type": "code",
   "execution_count": 1,
   "metadata": {},
   "outputs": [],
   "source": [
    "from pathlib import Path\n",
    "import sys, os\n",
    "import torch\n",
    "from torch.utils.data import DataLoader\n",
    "import pandas as pd\n",
    "import numpy as np\n",
    "import matplotlib.pyplot as plt\n",
    "\n",
    "import json\n",
    "from tqdm import tqdm\n",
    "import esm\n",
    "from scipy.special import softmax\n",
    "\n",
    "file_path = \"/home/ch3849/SAE_mut/code/model_relu\"\n",
    "sys.path.append(file_path)\n",
    "from dictionary import AutoEncoder"
   ]
  },
  {
   "cell_type": "code",
   "execution_count": 17,
   "metadata": {},
   "outputs": [],
   "source": [
    "device = torch.device(\"cuda:1\" if torch.cuda.is_available() else \"cpu\")\n",
    "# Load ESM-2 model\n",
    "# esm_model, alphabet = esm.pretrained.esm1b_t33_650M_UR50S()\n",
    "esm_model, alphabet = esm.pretrained.esm2_t33_650M_UR50D()\n",
    "esm_model.eval()  # disables dropout for deterministic results\n",
    "esm_model = esm_model.to(device)\n",
    "batch_converter = alphabet.get_batch_converter()\n",
    "\n",
    "norm_b = esm_model.emb_layer_norm_after.bias.clone().detach().requires_grad_(False).to(device)\n",
    "norm_w = esm_model.emb_layer_norm_after.weight.clone().detach().requires_grad_(False).to(device)"
   ]
  },
  {
   "cell_type": "code",
   "execution_count": 13,
   "metadata": {},
   "outputs": [],
   "source": [
    "df = pd.read_csv('/share/vault/Users/ch3849/esm_sae/sequence/eval_test_seq_max1022_addmask_perplexity.csv')\n",
    "df = df[df['split'] == 'eval'].reset_index(drop=True)"
   ]
  },
  {
   "cell_type": "code",
   "execution_count": 15,
   "metadata": {},
   "outputs": [],
   "source": [
    "def calculate_perplexity(logit, input):\n",
    "    '''\n",
    "    logit: the esm2 output logit, dim: L*33\n",
    "    input: the token of unmasked sequence and masked sequence\n",
    "\n",
    "    return: mean perplexity of 15% masked residues\n",
    "    '''\n",
    "    ppl = -np.log(softmax(logit, axis=1))\n",
    "    msk_ppl = ppl[input[1] == alphabet.mask_idx]\n",
    "    msk_residue = input[0][input[1] == alphabet.mask_idx]\n",
    "    \n",
    "    return float(np.mean([msk_ppl[i, msk_residue[i]] for i in range(len(msk_residue))]))"
   ]
  },
  {
   "cell_type": "markdown",
   "metadata": {},
   "source": [
    "### for ESM model"
   ]
  },
  {
   "cell_type": "code",
   "execution_count": 7,
   "metadata": {},
   "outputs": [],
   "source": [
    "for i in df.index[:100]:\n",
    "    name = df.loc[i, 'uniprot']\n",
    "    data = [(name, df.loc[i, seq]) for seq in ['random_subregion', 'masked_sequence']]\n",
    "\n",
    "    labels, strs, input = batch_converter(data)\n",
    "    input = input.numpy()[:,1:-1]\n",
    "\n",
    "    try:\n",
    "        loaded = np.load(f'/share/vault/Users/ch3849/esm_sae/esm1b_embed_eval_withmask/{name[-2:]}/{name}.npz')\n",
    "        logit = loaded['logit']\n",
    "        df.loc[i, 'perplexity'] = calculate_perplexity(logit, input)\n",
    "    except:\n",
    "        print(f'{i} error')"
   ]
  },
  {
   "cell_type": "markdown",
   "metadata": {},
   "source": [
    "### for ESM2 SAE evaluation"
   ]
  },
  {
   "cell_type": "code",
   "execution_count": 16,
   "metadata": {},
   "outputs": [
    {
     "name": "stderr",
     "output_type": "stream",
     "text": [
      "/home/ch3849/SAE_mut/code/model_relu/dictionary.py:108: FutureWarning: You are using `torch.load` with `weights_only=False` (the current default value), which uses the default pickle module implicitly. It is possible to construct malicious pickle data which will execute arbitrary code during unpickling (See https://github.com/pytorch/pytorch/blob/main/SECURITY.md#untrusted-models for more details). In a future release, the default value for `weights_only` will be flipped to `True`. This limits the functions that could be executed during unpickling. Arbitrary objects will no longer be allowed to be loaded via this mode unless they are explicitly allowlisted by the user via `torch.serialization.add_safe_globals`. We recommend you start setting `weights_only=True` for any use case where you don't have full control of the loaded file. Please open an issue on GitHub for any issues related to this experimental feature.\n",
      "  state_dict = t.load(path)\n"
     ]
    }
   ],
   "source": [
    "sae_model = 250213\n",
    "chk = 110000\n",
    "chk_path = f'/share/vault/Users/ch3849/esm_sae/model/{sae_model}/checkpoints/step_{chk}.pt'\n",
    "sae = AutoEncoder.from_pretrained(chk_path)\n",
    "sae.eval()  # disables dropout for deterministic results\n",
    "sae = sae.to(device)"
   ]
  },
  {
   "cell_type": "code",
   "execution_count": 20,
   "metadata": {},
   "outputs": [],
   "source": [
    "ppls = []\n",
    "for i in df.index[:3000]:\n",
    "    name = df.loc[i, 'uniprot']\n",
    "    data = [(name, df.loc[i, seq]) for seq in ['random_subregion', 'masked_sequence']]\n",
    "\n",
    "    labels, strs, input = batch_converter(data)\n",
    "    input = input.numpy()[:,1:-1]\n",
    "\n",
    "    loaded = np.load(f'/share/vault/Users/ch3849/esm_sae/esm_output/esm2_650M_embed_eval_withmask/{name[-2:]}/{name}.npz')\n",
    "    act = torch.tensor(loaded['repr']).to(device)\n",
    "\n",
    "    with torch.no_grad():\n",
    "        # Normalize activations\n",
    "        act_norm = (act - norm_b) / norm_w\n",
    "        act_norm_hat = sae(act_norm)\n",
    "        act_recon = act_norm_hat * norm_w + norm_b\n",
    "        sae_logit = esm_model.lm_head(act_recon)\n",
    "\n",
    "    sae_logit = sae_logit.cpu().numpy()\n",
    "\n",
    "    ppl = calculate_perplexity(sae_logit, input)\n",
    "    ppls.append(ppl)"
   ]
  },
  {
   "cell_type": "code",
   "execution_count": 21,
   "metadata": {},
   "outputs": [
    {
     "data": {
      "text/plain": [
       "2.3255355771097044"
      ]
     },
     "execution_count": 21,
     "metadata": {},
     "output_type": "execute_result"
    }
   ],
   "source": [
    "np.mean(ppls)"
   ]
  },
  {
   "cell_type": "code",
   "execution_count": 38,
   "metadata": {},
   "outputs": [],
   "source": [
    "esm_ppl = df['esm2_650m_perplexity'][:100]"
   ]
  },
  {
   "cell_type": "code",
   "execution_count": 39,
   "metadata": {},
   "outputs": [
    {
     "data": {
      "image/png": "[encoded data removed]",
      "text/plain": [
       "<Figure size 300x300 with 1 Axes>"
      ]
     },
     "metadata": {},
     "output_type": "display_data"
    }
   ],
   "source": [
    "plt.figure(figsize=[3,3])\n",
    "plt.scatter(esm_ppl, ppls)\n",
    "plt.plot([0.5,3], [0.5,3], c='red')\n",
    "plt.title('perplexity of 100 evaluation protein')\n",
    "plt.xlabel('ESM2', fontsize=12)\n",
    "plt.ylabel('SAE (l1 weight: 0.05) 110k', fontsize=12)\n",
    "plt.show()"
   ]
  },
  {
   "cell_type": "code",
   "execution_count": null,
   "metadata": {},
   "outputs": [],
   "source": []
  }
 ],
 "metadata": {
  "kernelspec": {
   "display_name": "interplm",
   "language": "python",
   "name": "python3"
  },
  "language_info": {
   "codemirror_mode": {
    "name": "ipython",
    "version": 3
   },
   "file_extension": ".py",
   "mimetype": "text/x-python",
   "name": "python",
   "nbconvert_exporter": "python",
   "pygments_lexer": "ipython3",
   "version": "3.11.10"
  }
 },
 "nbformat": 4,
 "nbformat_minor": 2
}
