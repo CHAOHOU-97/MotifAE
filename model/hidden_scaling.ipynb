{
 "cells": [
  {
   "cell_type": "code",
   "execution_count": 27,
   "metadata": {},
   "outputs": [],
   "source": [
    "from pathlib import Path\n",
    "import sys, os\n",
    "import torch\n",
    "from torch.utils.data import DataLoader\n",
    "import torch.optim as optim\n",
    "\n",
    "import pandas as pd\n",
    "import json\n",
    "from tqdm import tqdm\n",
    "import esm\n",
    "\n",
    "import numpy as np\n",
    "import pandas as pd\n",
    "import matplotlib.pyplot as plt\n",
    "import seaborn as sns\n",
    "\n",
    "from dictionary import AutoEncoder\n",
    "from trainer import StandardTrainer\n",
    "from training import train_run\n",
    "from dataset import ProteinDataset, collate_batch\n",
    "from config import my_config"
   ]
  },
  {
   "cell_type": "code",
   "execution_count": null,
   "metadata": {},
   "outputs": [
    {
     "name": "stderr",
     "output_type": "stream",
     "text": [
      "/tmp/ipykernel_569835/2866043474.py:5: FutureWarning: You are using `torch.load` with `weights_only=False` (the current default value), which uses the default pickle module implicitly. It is possible to construct malicious pickle data which will execute arbitrary code during unpickling (See https://github.com/pytorch/pytorch/blob/main/SECURITY.md#untrusted-models for more details). In a future release, the default value for `weights_only` will be flipped to `True`. This limits the functions that could be executed during unpickling. Arbitrary objects will no longer be allowed to be loaded via this mode unless they are explicitly allowlisted by the user via `torch.serialization.add_safe_globals`. We recommend you start setting `weights_only=True` for any use case where you don't have full control of the loaded file. Please open an issue on GitHub for any issues related to this experimental feature.\n",
      "  norm = torch.load('/share/vault/Users/ch3849/esm_sae/model/normalize_vector/ESM1b_2k.pth')\n"
     ]
    }
   ],
   "source": [
    "# Load ESM-2 model\n",
    "if my_config[\"plm_name\"] == 'esm2_t33_650M_UR50D':\n",
    "    norm = torch.load('/share/vault/Users/ch3849/esm_sae/model/normalize_vector/ESM2_2k.pth')\n",
    "elif my_config[\"plm_name\"] == 'esm1b_t33_650M_UR50S':\n",
    "    norm = torch.load('/share/vault/Users/ch3849/esm_sae/model/normalize_vector/ESM1b_2k.pth')\n",
    "\n",
    "norm_mean = norm['mean'].requires_grad_(False).to(my_config['device'])\n",
    "norm_std = norm['std'].requires_grad_(False).to(my_config['device'])\n",
    "\n",
    "stage = my_config['stage']\n",
    "df = pd.read_csv(my_config[f'df_path_{stage}'])\n",
    "df = df[df['split'] == 'train'].reset_index(drop=True)\n",
    "\n",
    "dataset = ProteinDataset(df=df, df_name_col=my_config[f'df_name_col_{stage}'], embed_logit_path=my_config[f'embed_logit_path_{stage}'], stage=stage)\n",
    "loader = DataLoader(dataset, collate_fn=collate_batch, batch_size=my_config['batch_size'], drop_last=True, num_workers=my_config['dataloader_num_workers'], shuffle = True)"
   ]
  },
  {
   "cell_type": "code",
   "execution_count": 70,
   "metadata": {},
   "outputs": [
    {
     "name": "stderr",
     "output_type": "stream",
     "text": [
      "/home/ch3849/SAE_mut/code/model_relu/dictionary.py:108: FutureWarning: You are using `torch.load` with `weights_only=False` (the current default value), which uses the default pickle module implicitly. It is possible to construct malicious pickle data which will execute arbitrary code during unpickling (See https://github.com/pytorch/pytorch/blob/main/SECURITY.md#untrusted-models for more details). In a future release, the default value for `weights_only` will be flipped to `True`. This limits the functions that could be executed during unpickling. Arbitrary objects will no longer be allowed to be loaded via this mode unless they are explicitly allowlisted by the user via `torch.serialization.add_safe_globals`. We recommend you start setting `weights_only=True` for any use case where you don't have full control of the loaded file. Please open an issue on GitHub for any issues related to this experimental feature.\n",
      "  state_dict = t.load(path)\n"
     ]
    }
   ],
   "source": [
    "sae_model = 250219\n",
    "chk = 110000\n",
    "chk_path = f'/share/vault/Users/ch3849/esm_sae/model/{sae_model}/checkpoints/step_{chk}.pt'\n",
    "sae = AutoEncoder.from_pretrained(chk_path)\n",
    "sae.eval()  # Disables dropout for deterministic results\n",
    "sae = sae.to(my_config['device'])\n",
    "\n",
    "# Set scaling factor for each feature\n",
    "f_scaling = torch.nn.Parameter(torch.ones(my_config['dict_size'], device=my_config['device']))  # scaling factor\n",
    "\n",
    "# Include only f_scaling and sae.decode parameters in the optimizer\n",
    "optimizer = optim.Adam(\n",
    "    [{'params': sae.decoder.weight, 'lr': 1e-3},  # Learning rate for decoder parameters\n",
    "     {'params': [f_scaling], 'lr': 1e-2}]  # Separate learning rate for f_scaling\n",
    ")"
   ]
  },
  {
   "cell_type": "code",
   "execution_count": null,
   "metadata": {},
   "outputs": [],
   "source": [
    "# Training loop\n",
    "for batch_data in loader:\n",
    "    act = batch_data['repr']\n",
    "    act = (act.to(my_config[\"device\"]) - norm_mean) / norm_std  # Normalize the input\n",
    "    \n",
    "    f = sae.encode(act)  # Encode the input\n",
    "    act_hat = sae.decode(f * f_scaling)  # Apply scaling and decode\n",
    "    \n",
    "    # Compute the L2 loss\n",
    "    l2_loss = torch.linalg.norm(act - act_hat, dim=-1).mean()\n",
    "    \n",
    "    # Zero gradients from the previous step\n",
    "    optimizer.zero_grad()\n",
    "    \n",
    "    # Backpropagate the loss\n",
    "    l2_loss.backward()\n",
    "    \n",
    "    # Update the parameters\n",
    "    optimizer.step()\n",
    "    \n",
    "    # Ensure scaling factor remains positive\n",
    "    f_scaling.data = torch.clamp(f_scaling.data, min=1)\n",
    "    \n",
    "    # Optional: print the loss for monitoring\n",
    "    print(f\"L2 Loss: {l2_loss.item()}\")"
   ]
  },
  {
   "cell_type": "code",
   "execution_count": 72,
   "metadata": {},
   "outputs": [
    {
     "name": "stdout",
     "output_type": "stream",
     "text": [
      "L2 Loss: 17.9985294342041\n",
      "L2 Loss: 17.613338470458984\n",
      "L2 Loss: 17.256746292114258\n",
      "L2 Loss: 16.92742919921875\n",
      "L2 Loss: 16.623279571533203\n",
      "L2 Loss: 16.341808319091797\n",
      "L2 Loss: 16.08048439025879\n",
      "L2 Loss: 15.836944580078125\n",
      "L2 Loss: 15.609139442443848\n",
      "L2 Loss: 15.395423889160156\n",
      "L2 Loss: 15.194488525390625\n",
      "L2 Loss: 15.00529956817627\n",
      "L2 Loss: 14.827001571655273\n",
      "L2 Loss: 14.658856391906738\n",
      "L2 Loss: 14.500155448913574\n",
      "L2 Loss: 14.350207328796387\n",
      "L2 Loss: 14.20832633972168\n",
      "L2 Loss: 14.073843002319336\n",
      "L2 Loss: 13.94612979888916\n",
      "L2 Loss: 13.824626922607422\n"
     ]
    }
   ],
   "source": [
    "for i in range(20):\n",
    "    f = sae.encode(act)  # Encode the input\n",
    "    act_hat = sae.decode(f * f_scaling)  # Apply scaling and decode\n",
    "    \n",
    "    # Compute the L2 loss\n",
    "    l2_loss = torch.linalg.norm(act - act_hat, dim=-1).mean()\n",
    "    \n",
    "    # Zero gradients from the previous step\n",
    "    optimizer.zero_grad()\n",
    "    \n",
    "    # Backpropagate the loss\n",
    "    l2_loss.backward()\n",
    "    \n",
    "    # Update the parameters\n",
    "    optimizer.step()\n",
    "    \n",
    "    # Ensure scaling factor remains positive\n",
    "    f_scaling.data = torch.clamp(f_scaling.data, min=1)\n",
    "    \n",
    "    # Optional: print the loss for monitoring\n",
    "    print(f\"L2 Loss: {l2_loss.item()}\")"
   ]
  },
  {
   "cell_type": "code",
   "execution_count": 74,
   "metadata": {},
   "outputs": [
    {
     "data": {
      "text/plain": [
       "tensor([1.1766, 1.1498, 1.2081,  ..., 1.0134, 1.1991, 1.1991], device='cuda:3',\n",
       "       grad_fn=<IndexBackward0>)"
      ]
     },
     "execution_count": 74,
     "metadata": {},
     "output_type": "execute_result"
    }
   ],
   "source": [
    "f_scaling[f_scaling != 1]"
   ]
  },
  {
   "cell_type": "code",
   "execution_count": 78,
   "metadata": {},
   "outputs": [
    {
     "data": {
      "text/plain": [
       "tensor([0.6619, 0.6247, 0.5845,  ..., 0.5619, 0.5372, 0.5271], device='cuda:3')"
      ]
     },
     "execution_count": 78,
     "metadata": {},
     "output_type": "execute_result"
    }
   ],
   "source": [
    "act.var(dim=1)"
   ]
  },
  {
   "cell_type": "code",
   "execution_count": 60,
   "metadata": {},
   "outputs": [
    {
     "name": "stderr",
     "output_type": "stream",
     "text": [
      "/home/ch3849/SAE_mut/code/model_relu/dictionary.py:108: FutureWarning: You are using `torch.load` with `weights_only=False` (the current default value), which uses the default pickle module implicitly. It is possible to construct malicious pickle data which will execute arbitrary code during unpickling (See https://github.com/pytorch/pytorch/blob/main/SECURITY.md#untrusted-models for more details). In a future release, the default value for `weights_only` will be flipped to `True`. This limits the functions that could be executed during unpickling. Arbitrary objects will no longer be allowed to be loaded via this mode unless they are explicitly allowlisted by the user via `torch.serialization.add_safe_globals`. We recommend you start setting `weights_only=True` for any use case where you don't have full control of the loaded file. Please open an issue on GitHub for any issues related to this experimental feature.\n",
      "  state_dict = t.load(path)\n"
     ]
    }
   ],
   "source": [
    "sae_model = 250219\n",
    "chk = 110000\n",
    "chk_path = f'/share/vault/Users/ch3849/esm_sae/model/{sae_model}/checkpoints/step_{chk}.pt'\n",
    "sae = AutoEncoder.from_pretrained(chk_path)\n",
    "sae.eval()  # disables dropout for deterministic results\n",
    "sae = sae.to(my_config['device'])\n",
    "\n",
    "f_scaling = torch.nn.Parameter(torch.ones(my_config['dict_size'], device=my_config['device']))  # scaling factor for each feature\n",
    "optimizer = optim.Adam([f_scaling], lr=0.1)\n",
    "\n",
    "for batch_data in loader:\n",
    "    act = batch_data['repr']\n",
    "    act = (act.to(my_config[\"device\"]) - norm_mean) / norm_std  # Normalize the input\n",
    "    \n",
    "    f = sae.encode(act)  # Encode the input\n",
    "    act_hat = sae.decode(f * f_scaling)  # Apply scaling and decode\n",
    "    \n",
    "    # Compute the L2 loss\n",
    "    l2_loss = torch.linalg.norm(act - act_hat, dim=-1).mean()\n",
    "    \n",
    "    # Zero gradients from the previous step\n",
    "    optimizer.zero_grad()\n",
    "    \n",
    "    # Backpropagate the loss\n",
    "    l2_loss.backward()\n",
    "    \n",
    "    # Update the f_scaling parameter\n",
    "    optimizer.step()\n",
    "    f_scaling.data = torch.clamp(f_scaling.data, min=1)    \n",
    "\n",
    "    # Optional: print the loss for monitoring\n",
    "    print(f\"L2 Loss: {l2_loss.item()}\")"
   ]
  },
  {
   "cell_type": "code",
   "execution_count": 67,
   "metadata": {},
   "outputs": [
    {
     "data": {
      "text/plain": [
       "6578"
      ]
     },
     "execution_count": 67,
     "metadata": {},
     "output_type": "execute_result"
    }
   ],
   "source": [
    "f_scaling[f_scaling > 1].shape[0]"
   ]
  }
 ],
 "metadata": {
  "kernelspec": {
   "display_name": "interplm",
   "language": "python",
   "name": "python3"
  },
  "language_info": {
   "codemirror_mode": {
    "name": "ipython",
    "version": 3
   },
   "file_extension": ".py",
   "mimetype": "text/x-python",
   "name": "python",
   "nbconvert_exporter": "python",
   "pygments_lexer": "ipython3",
   "version": "3.11.10"
  }
 },
 "nbformat": 4,
 "nbformat_minor": 2
}
